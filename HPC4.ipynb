{
  "nbformat": 4,
  "nbformat_minor": 0,
  "metadata": {
    "colab": {
      "provenance": [],
      "gpuType": "T4"
    },
    "kernelspec": {
      "name": "python3",
      "display_name": "Python 3"
    },
    "language_info": {
      "name": "python"
    },
    "accelerator": "GPU"
  },
  "cells": [
    {
      "cell_type": "code",
      "execution_count": null,
      "metadata": {
        "colab": {
          "base_uri": "https://localhost:8080/"
        },
        "id": "e8lB9xxAAzJT",
        "outputId": "0f741b13-726c-40b4-9fa7-6c1e9dfd9642"
      },
      "outputs": [
        {
          "output_type": "stream",
          "name": "stdout",
          "text": [
            "nvcc: NVIDIA (R) Cuda compiler driver\n",
            "Copyright (c) 2005-2023 NVIDIA Corporation\n",
            "Built on Tue_Aug_15_22:02:13_PDT_2023\n",
            "Cuda compilation tools, release 12.2, V12.2.140\n",
            "Build cuda_12.2.r12.2/compiler.33191640_0\n"
          ]
        }
      ],
      "source": [
        "!nvcc --version"
      ]
    },
    {
      "cell_type": "code",
      "source": [
        "!pip install git+https://github.com/afnan47/cuda.git"
      ],
      "metadata": {
        "colab": {
          "base_uri": "https://localhost:8080/"
        },
        "id": "drc7u5d5A2lw",
        "outputId": "2bfc7ed0-d58d-4b5b-f710-20d804427929"
      },
      "execution_count": null,
      "outputs": [
        {
          "output_type": "stream",
          "name": "stdout",
          "text": [
            "Collecting git+https://github.com/afnan47/cuda.git\n",
            "  Cloning https://github.com/afnan47/cuda.git to /tmp/pip-req-build-_u4trn6r\n",
            "  Running command git clone --filter=blob:none --quiet https://github.com/afnan47/cuda.git /tmp/pip-req-build-_u4trn6r\n",
            "  Resolved https://github.com/afnan47/cuda.git to commit aac710a35f52bb78ab34d2e52517237941399eff\n",
            "  Preparing metadata (setup.py) ... \u001b[?25l\u001b[?25hdone\n",
            "Building wheels for collected packages: NVCCPlugin\n",
            "  Building wheel for NVCCPlugin (setup.py) ... \u001b[?25l\u001b[?25hdone\n",
            "  Created wheel for NVCCPlugin: filename=NVCCPlugin-0.0.2-py3-none-any.whl size=4289 sha256=d24aaef8e95fd3fde7a31a20407183c8658443f55b34a2cf1569eba09c65e892\n",
            "  Stored in directory: /tmp/pip-ephem-wheel-cache-d4f9yipb/wheels/aa/f3/44/e10c1d226ec561d971fcd4b0463f6bff08602afa928a3e7bc7\n",
            "Successfully built NVCCPlugin\n",
            "Installing collected packages: NVCCPlugin\n",
            "Successfully installed NVCCPlugin-0.0.2\n"
          ]
        }
      ]
    },
    {
      "cell_type": "code",
      "source": [
        "%load_ext nvcc_plugin"
      ],
      "metadata": {
        "colab": {
          "base_uri": "https://localhost:8080/"
        },
        "id": "NtZceaRNA6KH",
        "outputId": "4b5cbb4a-cdc4-4589-d69a-c602190202cd"
      },
      "execution_count": null,
      "outputs": [
        {
          "output_type": "stream",
          "name": "stdout",
          "text": [
            "created output directory at /content/src\n",
            "Out bin /content/result.out\n"
          ]
        }
      ]
    },
    {
      "cell_type": "code",
      "source": [
        "%%writefile add.cu\n",
        "#include <iostream>\n",
        "#include <cstdlib> // Include <cstdlib> for rand()\n",
        "using namespace std;\n",
        "__global__\n",
        "void add(int* A, int* B, int* C, int size) {\n",
        "int tid = blockIdx.x * blockDim.x + threadIdx.x;\n",
        "if (tid < size) {\n",
        "C[tid] = A[tid] + B[tid];\n",
        "}\n",
        "}\n",
        "void print(int* vector, int size) {\n",
        "for (int i = 0; i < size; i++) {\n",
        "cout << vector[i] << \" \";\n",
        "}\n",
        "cout << endl;\n",
        "}\n",
        "int main() {\n",
        "int N;\n",
        "cout << \"Enter the size of the vectors: \";\n",
        "cin >> N;\n",
        "int* A, * B, * C;\n",
        "int vectorSize = N;\n",
        "size_t vectorBytes = vectorSize * sizeof(int);\n",
        "// Allocate host memory\n",
        "A = new int[vectorSize];\n",
        "B = new int[vectorSize];\n",
        "C = new int[vectorSize];\n",
        "// Initialize host arrays\n",
        "cout << \"Enter elements of vector A:\" << endl;\n",
        "for (int i = 0; i < N; i++) {\n",
        "cin >> A[i];\n",
        "}\n",
        "cout << \"Enter elements of vector B:\" << endl;\n",
        "for (int i = 0; i < N; i++) {\n",
        "cin >> B[i];\n",
        "}\n",
        "cout << \"Vector A: \";\n",
        "print(A, N);\n",
        "cout << \"Vector B: \";\n",
        "print(B, N);\n",
        "int* X, * Y, * Z;\n",
        "// Allocate device memory\n",
        "cudaMalloc(&X, vectorBytes);\n",
        "cudaMalloc(&Y, vectorBytes);\n",
        "cudaMalloc(&Z, vectorBytes);\n",
        "// Check for CUDA memory allocation errors\n",
        "if (X == nullptr || Y == nullptr || Z == nullptr) {\n",
        "cerr << \"CUDA memory allocation failed\" << endl;\n",
        "return 1;\n",
        "}\n",
        "// Copy data from host to device\n",
        "cudaMemcpy(X, A, vectorBytes, cudaMemcpyHostToDevice);\n",
        "cudaMemcpy(Y, B, vectorBytes, cudaMemcpyHostToDevice);\n",
        "int threadsPerBlock = 256;\n",
        "int blocksPerGrid = (N + threadsPerBlock - 1) / threadsPerBlock;\n",
        "// Launch kernel\n",
        "add<<<blocksPerGrid, threadsPerBlock>>>(X, Y, Z, N);\n",
        "// Check for kernel launch errors\n",
        "cudaError_t kernelLaunchError = cudaGetLastError();\n",
        "if (kernelLaunchError != cudaSuccess) {\n",
        "cerr << \"CUDA kernel launch failed: \" <<\n",
        "cudaGetErrorString(kernelLaunchError) << endl;\n",
        "return 1;\n",
        "}\n",
        "// Copy result from device to host\n",
        "cudaMemcpy(C, Z, vectorBytes, cudaMemcpyDeviceToHost);\n",
        "// Check for CUDA memcpy errors\n",
        "cudaError_t memcpyError = cudaGetLastError();\n",
        "if (memcpyError != cudaSuccess) {\n",
        "cerr << \"CUDA memcpy failed: \" << cudaGetErrorString(memcpyError) <<\n",
        "endl;\n",
        "return 1;\n",
        "}\n",
        "cout << \"Addition: \";\n",
        "print(C, N);\n",
        "// Free device memory\n",
        "cudaFree(X);\n",
        "cudaFree(Y);\n",
        "cudaFree(Z);\n",
        "// Free host memory\n",
        "delete[] A;\n",
        "delete[] B;\n",
        "delete[] C;\n",
        "return 0;\n",
        "}\n"
      ],
      "metadata": {
        "colab": {
          "base_uri": "https://localhost:8080/"
        },
        "id": "9APzxxjQBGei",
        "outputId": "4e49c275-b2ef-4eaa-dfc4-bf61386937c4"
      },
      "execution_count": null,
      "outputs": [
        {
          "output_type": "stream",
          "name": "stdout",
          "text": [
            "Writing add.cu\n"
          ]
        }
      ]
    },
    {
      "cell_type": "code",
      "source": [
        "!nvcc add.cu -o add\n",
        "!./add"
      ],
      "metadata": {
        "colab": {
          "base_uri": "https://localhost:8080/"
        },
        "id": "IBxuD2U2Bf9n",
        "outputId": "114a5c37-4beb-4951-c95d-f94b4955544f"
      },
      "execution_count": null,
      "outputs": [
        {
          "output_type": "stream",
          "name": "stdout",
          "text": [
            "Enter the size of the vectors: 3\n",
            "Enter elements of vector A:\n",
            "12 14 10\n",
            "Enter elements of vector B:\n",
            "12 14 10\n",
            "Vector A: 12 14 10 \n",
            "Vector B: 12 14 10 \n",
            "Addition: 24 28 20 \n"
          ]
        }
      ]
    },
    {
      "cell_type": "code",
      "source": [
        "%%writefile matrix_mult.cu\n",
        "#include <iostream>\n",
        "#include <cuda.h>\n",
        "using namespace std;\n",
        "#define BLOCK_SIZE 1\n",
        "__global__ void gpuMM(float *A, float *B, float *C, int N) {\n",
        "int row = blockIdx.y * blockDim.y + threadIdx.y;\n",
        "int col = blockIdx.x * blockDim.x + threadIdx.x;\n",
        "float sum = 0.f;\n",
        "for (int n = 0; n < N; ++n)\n",
        "sum += A[row * N + n] * B[n * N + col];\n",
        "C[row * N + col] = sum;\n",
        "}\n",
        "int main(int argc, char *argv[]) {\n",
        "int N;\n",
        "// Get matrix size from user\n",
        "cout << \"Enter size of matrix (N): \";\n",
        "cin >> N;\n",
        "if (N % BLOCK_SIZE != 0) {\n",
        "cerr << \"Matrix size must be a multiple of BLOCK_SIZE.\" << endl;\n",
        "return 1;\n",
        "}\n",
        "cout << \"\\nExecuting Matrix Multiplication\" << endl;\n",
        "cout << \"Matrix size: \" << N << \"x\" << N << endl;\n",
        "// Allocate memory for matrices on the host\n",
        "float *hA, *hB, *hC;\n",
        "hA = new float[N * N];\n",
        "hB = new float[N * N];\n",
        "hC = new float[N * N];\n",
        "// Read matrices from user\n",
        "cout << \"Enter elements of matrix A (\" << N << \"x\" << N << \"):\" << endl;\n",
        "for (int i = 0; i < N * N; ++i)\n",
        "cin >> hA[i];\n",
        "cout << \"Enter elements of matrix B (\" << N << \"x\" << N << \"):\" << endl;\n",
        "for (int i = 0; i < N * N; ++i)\n",
        "cin >> hB[i];\n",
        "// Allocate memory for matrices on the device\n",
        "int size = N * N * sizeof(float);\n",
        "float *dA, *dB, *dC;\n",
        "cudaMalloc(&dA, size);\n",
        "cudaMalloc(&dB, size);\n",
        "cudaMalloc(&dC, size);\n",
        "// Copy matrices from the host to the device\n",
        "cudaMemcpy(dA, hA, size, cudaMemcpyHostToDevice);\n",
        "cudaMemcpy(dB, hB, size, cudaMemcpyHostToDevice);\n",
        "dim3 threadBlock(BLOCK_SIZE, BLOCK_SIZE);\n",
        "dim3 grid(N / BLOCK_SIZE, N / BLOCK_SIZE);\n",
        "// Execute the matrix multiplication kernel\n",
        "gpuMM<<<grid, threadBlock>>>(dA, dB, dC, N);\n",
        "// Copy the result matrix from the device to the host\n",
        "cudaMemcpy(hC, dC, size, cudaMemcpyDeviceToHost);\n",
        "// Display the result matrix\n",
        "cout << \"\\nResultant matrix:\\n\";\n",
        "for (int row = 0; row < N; row++) {\n",
        "for (int col = 0; col < N; col++) {\n",
        "cout << hC[row * N + col] << \" \";\n",
        "}\n",
        "cout << endl;\n",
        "}\n",
        "// Free device memory\n",
        "cudaFree(dA);\n",
        "cudaFree(dB);\n",
        "cudaFree(dC);\n",
        "// Free host memory\n",
        "delete[] hA;\n",
        "delete[] hB;\n",
        "delete[] hC;\n",
        "cout << \"Finished.\" << endl;\n",
        "return 0;\n",
        "}\n"
      ],
      "metadata": {
        "colab": {
          "base_uri": "https://localhost:8080/"
        },
        "id": "4FiS84GaBkbH",
        "outputId": "4f62f20c-60bd-4659-8ec0-c53f597bc2ca"
      },
      "execution_count": null,
      "outputs": [
        {
          "output_type": "stream",
          "name": "stdout",
          "text": [
            "Writing matrix_mult.cu\n"
          ]
        }
      ]
    },
    {
      "cell_type": "code",
      "source": [
        "!nvcc matrix_mult.cu -o matrix_mult\n",
        "!./matrix_mult\n"
      ],
      "metadata": {
        "colab": {
          "base_uri": "https://localhost:8080/"
        },
        "id": "m9f_ty5oBxbY",
        "outputId": "74cf0451-1d09-4ee3-d62a-da6537df06c7"
      },
      "execution_count": null,
      "outputs": [
        {
          "output_type": "stream",
          "name": "stdout",
          "text": [
            "Enter size of matrix (N): 3\n",
            "\n",
            "Executing Matrix Multiplication\n",
            "Matrix size: 3x3\n",
            "Enter elements of matrix A (3x3):\n",
            "1 2 3\n",
            "4 5 6\n",
            "7 8 9\n",
            "Enter elements of matrix B (3x3):\n",
            "9 8 7 \n",
            "6 5 4\n",
            "3 2 1\n",
            "\n",
            "Resultant matrix:\n",
            "30 24 18 \n",
            "84 69 54 \n",
            "138 114 90 \n",
            "Finished.\n"
          ]
        }
      ]
    },
    {
      "cell_type": "code",
      "source": [],
      "metadata": {
        "id": "DoEi9rw2B0X4"
      },
      "execution_count": null,
      "outputs": []
    }
  ]
}