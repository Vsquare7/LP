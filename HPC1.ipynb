{
  "nbformat": 4,
  "nbformat_minor": 0,
  "metadata": {
    "colab": {
      "provenance": [],
      "gpuType": "T4"
    },
    "kernelspec": {
      "name": "python3",
      "display_name": "Python 3"
    },
    "language_info": {
      "name": "python"
    },
    "accelerator": "GPU"
  },
  "cells": [
    {
      "cell_type": "code",
      "execution_count": null,
      "metadata": {
        "colab": {
          "base_uri": "https://localhost:8080/"
        },
        "id": "_rL1fuZM3Zyk",
        "outputId": "51510b82-4b45-4397-c293-c362a8bdaaa8"
      },
      "outputs": [
        {
          "output_type": "stream",
          "name": "stdout",
          "text": [
            "Collecting git+https://github.com/afnan47/cuda.git\n",
            "  Cloning https://github.com/afnan47/cuda.git to /tmp/pip-req-build-14ynsg7c\n",
            "  Running command git clone --filter=blob:none --quiet https://github.com/afnan47/cuda.git /tmp/pip-req-build-14ynsg7c\n",
            "  Resolved https://github.com/afnan47/cuda.git to commit aac710a35f52bb78ab34d2e52517237941399eff\n",
            "  Preparing metadata (setup.py) ... \u001b[?25l\u001b[?25hdone\n",
            "Building wheels for collected packages: NVCCPlugin\n",
            "  Building wheel for NVCCPlugin (setup.py) ... \u001b[?25l\u001b[?25hdone\n",
            "  Created wheel for NVCCPlugin: filename=NVCCPlugin-0.0.2-py3-none-any.whl size=4289 sha256=2b11e071830ee940f7ec4751799a25d906f97ac4b9de35c8aad2cdcc5334d6ec\n",
            "  Stored in directory: /tmp/pip-ephem-wheel-cache-tlfl9fua/wheels/aa/f3/44/e10c1d226ec561d971fcd4b0463f6bff08602afa928a3e7bc7\n",
            "Successfully built NVCCPlugin\n",
            "Installing collected packages: NVCCPlugin\n",
            "Successfully installed NVCCPlugin-0.0.2\n"
          ]
        }
      ],
      "source": [
        "!pip install git+https://github.com/afnan47/cuda.git"
      ]
    },
    {
      "cell_type": "code",
      "source": [
        "%load_ext nvcc_plugin"
      ],
      "metadata": {
        "colab": {
          "base_uri": "https://localhost:8080/"
        },
        "id": "8vKX8W7S3mSL",
        "outputId": "60f825bb-4470-418f-e275-0ec78510decf"
      },
      "execution_count": null,
      "outputs": [
        {
          "output_type": "stream",
          "name": "stdout",
          "text": [
            "created output directory at /content/src\n",
            "Out bin /content/result.out\n"
          ]
        }
      ]
    },
    {
      "cell_type": "code",
      "source": [
        "%%writefile breadthfirst.cu\n",
        "#include <iostream>\n",
        "#include <queue>\n",
        "#include <vector>\n",
        "#include <omp.h>\n",
        "using namespace std;\n",
        "int main() {\n",
        "int num_vertices, num_edges, source;\n",
        "cout << \"Enter number of vertices, edges, and source node: \";\n",
        "cin >> num_vertices >> num_edges >> source;\n",
        "// Input validation\n",
        "if (source < 1 || source > num_vertices) {\n",
        "cout << \"Invalid source node!\" << endl;\n",
        "return 1;\n",
        "}\n",
        "vector<vector<int>> adj_list(num_vertices + 1);\n",
        "for (int i = 0; i < num_edges; i++) {\n",
        "int u, v;\n",
        "cin >> u >> v;\n",
        "// Input validation for edges\n",
        "if (u < 1 || u > num_vertices || v < 1 || v > num_vertices) {\n",
        "cout << \"Invalid edge: \" << u << \" \" << v << endl;\n",
        "return 1;\n",
        "}\n",
        "adj_list[u].push_back(v);\n",
        "adj_list[v].push_back(u);\n",
        "}\n",
        "queue<int> q;\n",
        "vector<bool> visited(num_vertices + 1, false);\n",
        "q.push(source);\n",
        "visited[source] = true;\n",
        "while (!q.empty()) {\n",
        "int curr_vertex = q.front();\n",
        "q.pop();\n",
        "cout << curr_vertex << \" \";\n",
        "// Sequential loop for neighbors\n",
        "for (int i = 0; i < adj_list[curr_vertex].size(); i++) {\n",
        "int neighbour = adj_list[curr_vertex][i];\n",
        "if (!visited[neighbour]) {\n",
        "visited[neighbour] = true;\n",
        "q.push(neighbour);\n",
        "}\n",
        "}\n",
        "}\n",
        "cout << endl;\n",
        "return 0;\n",
        "}\n"
      ],
      "metadata": {
        "colab": {
          "base_uri": "https://localhost:8080/"
        },
        "id": "HDVeyEzm3yLB",
        "outputId": "a74838d9-7789-4f1b-e63e-78538b7d181b"
      },
      "execution_count": null,
      "outputs": [
        {
          "output_type": "stream",
          "name": "stdout",
          "text": [
            "Writing breadthfirst.cu\n"
          ]
        }
      ]
    },
    {
      "cell_type": "code",
      "source": [
        "!nvcc breadthfirst.cu -o breadthfirst\n",
        "!./breadthfirst"
      ],
      "metadata": {
        "colab": {
          "base_uri": "https://localhost:8080/"
        },
        "id": "6axX6Cyr4yUj",
        "outputId": "410149be-b26f-4c10-96f3-0a9a1161f9bb"
      },
      "execution_count": null,
      "outputs": [
        {
          "output_type": "stream",
          "name": "stdout",
          "text": [
            "Enter number of vertices, edges, and source node: 6 5 3\n",
            "3 2\n",
            "3 5 \n",
            "2 1\n",
            "5 4 \n",
            "5 6\n",
            "3 2 5 1 4 6 \n"
          ]
        }
      ]
    },
    {
      "cell_type": "code",
      "source": [
        "%%writefile depthfirst.cu\n",
        "#include <iostream>\n",
        "#include <vector>\n",
        "using namespace std;\n",
        "const int MAXN = 1e5;\n",
        "vector<int> adj[MAXN+5]; // adjacency list\n",
        "bool visited[MAXN+5]; // mark visited nodes\n",
        "void dfs(int node) {\n",
        "visited[node] = true;\n",
        "cout << node << \" \"; // Print the visited node here\n",
        "for (int i = 0; i < adj[node].size(); i++) {\n",
        "int next_node = adj[node][i];\n",
        "if (!visited[next_node]) {\n",
        "dfs(next_node);\n",
        "}\n",
        "}\n",
        "}\n",
        "int main() {\n",
        "cout << \"Please enter nodes and edges: \";\n",
        "int n, m; // number of nodes and edges\n",
        "cin >> n >> m;\n",
        "for (int i = 1; i <= m; i++) {\n",
        "int u, v; // edge between u and v\n",
        "cin >> u >> v;\n",
        "adj[u].push_back(v);\n",
        "adj[v].push_back(u);\n",
        "}\n",
        "int start_node; // start node of DFS\n",
        "cout << \"Enter the start node for DFS: \";\n",
        "cin >> start_node;\n",
        "dfs(start_node);\n",
        "cout << endl; // Print a newline after DFS traversal\n",
        "return 0;\n",
        "}\n"
      ],
      "metadata": {
        "colab": {
          "base_uri": "https://localhost:8080/"
        },
        "id": "pzekKK1o411S",
        "outputId": "6547952f-43f2-4bda-a1e5-781534d38dae"
      },
      "execution_count": null,
      "outputs": [
        {
          "output_type": "stream",
          "name": "stdout",
          "text": [
            "Writing depthfirst.cu\n"
          ]
        }
      ]
    },
    {
      "cell_type": "code",
      "source": [
        "!nvcc depthfirst.cu -o depthfirst\n",
        "!./depthfirst"
      ],
      "metadata": {
        "colab": {
          "base_uri": "https://localhost:8080/"
        },
        "id": "Dc5cG2QU5Gja",
        "outputId": "7de15aef-33ee-4d0b-8bba-588fc98c323c"
      },
      "execution_count": null,
      "outputs": [
        {
          "output_type": "stream",
          "name": "stdout",
          "text": [
            "Please enter nodes and edges: 5 4\n",
            "1 2\n",
            "1 3\n",
            "2 4\n",
            "3 5\n",
            "Enter the start node for DFS: 2\n",
            "2 1 3 5 4 \n"
          ]
        }
      ]
    },
    {
      "cell_type": "code",
      "source": [],
      "metadata": {
        "id": "jXKZbuzr5JBq"
      },
      "execution_count": null,
      "outputs": []
    }
  ]
}