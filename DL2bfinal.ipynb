{
  "cells": [
    {
      "cell_type": "code",
      "execution_count": null,
      "metadata": {
        "id": "Yh6JiXv9t9AO"
      },
      "outputs": [],
      "source": [
        "import numpy as np\n",
        "from tensorflow.keras.datasets import imdb\n",
        "from tensorflow.keras.models import Sequential\n",
        "from tensorflow.keras.layers import Dense, LSTM, Embedding, SpatialDropout1D\n",
        "from tensorflow.keras.preprocessing.sequence import pad_sequences\n",
        "from tensorflow.keras.preprocessing.text import Tokenizer\n",
        "import time"
      ]
    },
    {
      "cell_type": "code",
      "execution_count": null,
      "metadata": {
        "colab": {
          "base_uri": "https://localhost:8080/"
        },
        "id": "w8UiG4OmunK2",
        "outputId": "ef72c2e7-466d-4e0f-a970-7859e9d2c441"
      },
      "outputs": [
        {
          "output_type": "stream",
          "name": "stdout",
          "text": [
            "Downloading data from https://storage.googleapis.com/tensorflow/tf-keras-datasets/imdb.npz\n",
            "17464789/17464789 [==============================] - 1s 0us/step\n"
          ]
        }
      ],
      "source": [
        "# Load the IMDB dataset\n",
        "max_features = 5000\n",
        "maxlen = 100\n",
        "(X_train, y_train), (X_test, y_test) = imdb.load_data(num_words=max_features)"
      ]
    },
    {
      "cell_type": "code",
      "execution_count": null,
      "metadata": {
        "id": "XyWaIcAruqDx"
      },
      "outputs": [],
      "source": [
        "# Preprocess the data\n",
        "X_train = pad_sequences(X_train, maxlen=maxlen)\n",
        "X_test = pad_sequences(X_test, maxlen=maxlen)"
      ]
    },
    {
      "cell_type": "code",
      "execution_count": null,
      "metadata": {
        "colab": {
          "base_uri": "https://localhost:8080/"
        },
        "id": "v8HLwbHeut0x",
        "outputId": "cca8cc64-bf79-410b-a7cc-6890c8ae3272"
      },
      "outputs": [
        {
          "output_type": "stream",
          "name": "stdout",
          "text": [
            "Downloading data from https://storage.googleapis.com/tensorflow/tf-keras-datasets/imdb_word_index.json\n",
            "1641221/1641221 [==============================] - 1s 0us/step\n"
          ]
        }
      ],
      "source": [
        "# Convert sequences back into text\n",
        "reverse_word_index = dict([(value, key) for (key, value) in imdb.get_word_index().items()])\n",
        "def decode_review(text):\n",
        "    return ' '.join([reverse_word_index.get(i - 3, '?') for i in text])\n",
        "\n",
        "X_train_text = [decode_review(x) for x in X_train]\n",
        "X_test_text = [decode_review(x) for x in X_test]\n",
        "\n",
        "# Create and fit tokenizer\n",
        "tokenizer = Tokenizer(num_words=max_features)\n",
        "tokenizer.fit_on_texts(X_train_text)\n",
        "\n",
        "# Preprocess the data\n",
        "X_train = pad_sequences(tokenizer.texts_to_sequences(X_train_text), maxlen=maxlen)\n",
        "X_test = pad_sequences(tokenizer.texts_to_sequences(X_test_text), maxlen=maxlen)"
      ]
    },
    {
      "cell_type": "code",
      "execution_count": null,
      "metadata": {
        "id": "KhSTx9G7u7FS"
      },
      "outputs": [],
      "source": [
        "model = Sequential()\n",
        "model.add(Embedding(max_features, 128, input_length=maxlen))\n",
        "model.add(SpatialDropout1D(0.2))\n",
        "model.add(LSTM(64, dropout=0.2, recurrent_dropout=0.2))\n",
        "model.add(Dense(1, activation='sigmoid'))"
      ]
    },
    {
      "cell_type": "code",
      "execution_count": null,
      "metadata": {
        "id": "Ku-kADthvBb1"
      },
      "outputs": [],
      "source": [
        "model.compile(loss='binary_crossentropy', optimizer='adam', metrics=['accuracy'])"
      ]
    },
    {
      "cell_type": "code",
      "execution_count": null,
      "metadata": {
        "colab": {
          "base_uri": "https://localhost:8080/"
        },
        "id": "uP5ciTQcvETg",
        "outputId": "019ad525-153d-4ba3-a091-ed70d5256dd9"
      },
      "outputs": [
        {
          "output_type": "stream",
          "name": "stdout",
          "text": [
            "Epoch 1/5\n",
            "782/782 [==============================] - 165s 205ms/step - loss: 0.4239 - accuracy: 0.8007 - val_loss: 0.4054 - val_accuracy: 0.8119\n",
            "Epoch 2/5\n",
            "782/782 [==============================] - 160s 205ms/step - loss: 0.2989 - accuracy: 0.8752 - val_loss: 0.3410 - val_accuracy: 0.8484\n",
            "Epoch 3/5\n",
            "782/782 [==============================] - 159s 204ms/step - loss: 0.2485 - accuracy: 0.9002 - val_loss: 0.3585 - val_accuracy: 0.8462\n",
            "Epoch 4/5\n",
            "782/782 [==============================] - 158s 202ms/step - loss: 0.2106 - accuracy: 0.9148 - val_loss: 0.4069 - val_accuracy: 0.8459\n",
            "Epoch 5/5\n",
            "782/782 [==============================] - 157s 201ms/step - loss: 0.1752 - accuracy: 0.9310 - val_loss: 0.4548 - val_accuracy: 0.8432\n"
          ]
        }
      ],
      "source": [
        "# Train the model\n",
        "start_time = time.time()\n",
        "model.fit(X_train, y_train, validation_data=(X_test, y_test), epochs=5, batch_size=32)\n",
        "training_time = time.time() - start_time"
      ]
    },
    {
      "cell_type": "code",
      "execution_count": null,
      "metadata": {
        "colab": {
          "base_uri": "https://localhost:8080/"
        },
        "id": "E4jf24GCvQCw",
        "outputId": "73fa947a-87da-4147-9ff7-828da0399081"
      },
      "outputs": [
        {
          "output_type": "stream",
          "name": "stdout",
          "text": [
            "782/782 [==============================] - 21s 27ms/step - loss: 0.4548 - accuracy: 0.8432\n",
            "Test accuracy: 0.8432000279426575\n"
          ]
        }
      ],
      "source": [
        "# Evaluate the model\n",
        "start_time = time.time()\n",
        "\n",
        "score, acc = model.evaluate(X_test, y_test, batch_size=32)\n",
        "prediction_time = time.time() - start_time\n",
        "\n",
        "print(\"Test accuracy:\", acc)"
      ]
    },
    {
      "cell_type": "code",
      "execution_count": null,
      "metadata": {
        "id": "9piGueM5yv0z"
      },
      "outputs": [],
      "source": [
        "# Function to preprocess user input\n",
        "def preprocess_input(user_input):\n",
        "    from tensorflow.keras.preprocessing.sequence import pad_sequences\n",
        "    sequences = tokenizer.texts_to_sequences(user_input)\n",
        "    return pad_sequences(sequences, maxlen=maxlen)\n",
        "\n",
        "#from tensorflow.keras.preprocessing.text import Tokenizer\n",
        "    #tokenizer = Tokenizer(num_words=max_features)\n",
        "    #tokenizer.fit_on_texts(user_input)\n",
        "    #sequences = tokenizer.texts_to_sequences(user_input)\n",
        "    #return pad_sequences(sequences, maxlen=maxlen)"
      ]
    },
    {
      "cell_type": "code",
      "execution_count": null,
      "metadata": {
        "id": "_DT9KxElzd4p"
      },
      "outputs": [],
      "source": [
        "# Function to predict sentiment\n",
        "def predict_sentiment(review):\n",
        "    review = preprocess_input([review])\n",
        "    prediction = model.predict(review)[0][0]\n",
        "    if prediction >= 0.5:\n",
        "        return \"Positive\"\n",
        "    else:\n",
        "        return \"Negative\""
      ]
    },
    {
      "cell_type": "code",
      "execution_count": null,
      "metadata": {
        "colab": {
          "base_uri": "https://localhost:8080/"
        },
        "id": "KQjsrbhMzhOK",
        "outputId": "987e6d10-33b9-4caa-ba97-c4f38023c595"
      },
      "outputs": [
        {
          "output_type": "stream",
          "name": "stdout",
          "text": [
            "Welcome to Movie Review Sentiment Analyzer!\n"
          ]
        }
      ],
      "source": [
        "# User Interface\n",
        "print(\"Welcome to Movie Review Sentiment Analyzer!\")"
      ]
    },
    {
      "cell_type": "code",
      "execution_count": null,
      "metadata": {
        "colab": {
          "base_uri": "https://localhost:8080/"
        },
        "id": "wluyHvDGzld3",
        "outputId": "c0647717-86e7-4b5e-9efc-476c501cd806"
      },
      "outputs": [
        {
          "output_type": "stream",
          "name": "stdout",
          "text": [
            "Enter your movie review (or type 'quit' to exit): good\n",
            "1/1 [==============================] - 0s 379ms/step\n",
            "Predicted sentiment: Positive\n",
            "Enter your movie review (or type 'quit' to exit): bad\n",
            "1/1 [==============================] - 0s 29ms/step\n",
            "Predicted sentiment: Negative\n",
            "Enter your movie review (or type 'quit' to exit): love it\n",
            "1/1 [==============================] - 0s 28ms/step\n",
            "Predicted sentiment: Positive\n",
            "Enter your movie review (or type 'quit' to exit): hate it\n",
            "1/1 [==============================] - 0s 35ms/step\n",
            "Predicted sentiment: Negative\n",
            "Enter your movie review (or type 'quit' to exit): quit\n",
            "Thank you for using our service!\n"
          ]
        }
      ],
      "source": [
        "while True:\n",
        "    user_review = input(\"Enter your movie review (or type 'quit' to exit): \")\n",
        "    if user_review.lower() == 'quit':\n",
        "        print(\"Thank you for using our service!\")\n",
        "        break\n",
        "    else:\n",
        "        sentiment = predict_sentiment(user_review)\n",
        "        print(\"Predicted sentiment:\", sentiment)"
      ]
    }
  ],
  "metadata": {
    "colab": {
      "provenance": []
    },
    "kernelspec": {
      "display_name": "Python 3",
      "name": "python3"
    },
    "language_info": {
      "name": "python"
    }
  },
  "nbformat": 4,
  "nbformat_minor": 0
}