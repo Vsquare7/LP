{
  "nbformat": 4,
  "nbformat_minor": 0,
  "metadata": {
    "colab": {
      "provenance": [],
      "gpuType": "T4"
    },
    "kernelspec": {
      "name": "python3",
      "display_name": "Python 3"
    },
    "language_info": {
      "name": "python"
    },
    "accelerator": "GPU"
  },
  "cells": [
    {
      "cell_type": "code",
      "execution_count": null,
      "metadata": {
        "colab": {
          "base_uri": "https://localhost:8080/"
        },
        "id": "q4mKUbxk_jkB",
        "outputId": "f8bb2ce9-1e3b-48eb-a43e-93d84a436c90"
      },
      "outputs": [
        {
          "output_type": "stream",
          "name": "stdout",
          "text": [
            "nvcc: NVIDIA (R) Cuda compiler driver\n",
            "Copyright (c) 2005-2023 NVIDIA Corporation\n",
            "Built on Tue_Aug_15_22:02:13_PDT_2023\n",
            "Cuda compilation tools, release 12.2, V12.2.140\n",
            "Build cuda_12.2.r12.2/compiler.33191640_0\n"
          ]
        }
      ],
      "source": [
        "!nvcc --version"
      ]
    },
    {
      "cell_type": "code",
      "source": [
        "!pip install git+https://github.com/afnan47/cuda.git"
      ],
      "metadata": {
        "colab": {
          "base_uri": "https://localhost:8080/"
        },
        "id": "g5If33SH_rlg",
        "outputId": "12c241e3-fe38-4e51-ac0d-1f32acae4adb"
      },
      "execution_count": null,
      "outputs": [
        {
          "output_type": "stream",
          "name": "stdout",
          "text": [
            "Collecting git+https://github.com/afnan47/cuda.git\n",
            "  Cloning https://github.com/afnan47/cuda.git to /tmp/pip-req-build-2q7ce_ac\n",
            "  Running command git clone --filter=blob:none --quiet https://github.com/afnan47/cuda.git /tmp/pip-req-build-2q7ce_ac\n",
            "  Resolved https://github.com/afnan47/cuda.git to commit aac710a35f52bb78ab34d2e52517237941399eff\n",
            "  Preparing metadata (setup.py) ... \u001b[?25l\u001b[?25hdone\n",
            "Building wheels for collected packages: NVCCPlugin\n",
            "  Building wheel for NVCCPlugin (setup.py) ... \u001b[?25l\u001b[?25hdone\n",
            "  Created wheel for NVCCPlugin: filename=NVCCPlugin-0.0.2-py3-none-any.whl size=4289 sha256=ddf9d9ede5c5ddb9820174ac6111a11a813e8a15ef7aa74a4b03152c8b48c4be\n",
            "  Stored in directory: /tmp/pip-ephem-wheel-cache-pwwrypyz/wheels/aa/f3/44/e10c1d226ec561d971fcd4b0463f6bff08602afa928a3e7bc7\n",
            "Successfully built NVCCPlugin\n",
            "Installing collected packages: NVCCPlugin\n",
            "Successfully installed NVCCPlugin-0.0.2\n"
          ]
        }
      ]
    },
    {
      "cell_type": "code",
      "source": [
        "%load_ext nvcc_plugin"
      ],
      "metadata": {
        "colab": {
          "base_uri": "https://localhost:8080/"
        },
        "id": "A8EmqCKH_raF",
        "outputId": "4b979f67-416c-4421-a21a-6b39b0b11fe7"
      },
      "execution_count": null,
      "outputs": [
        {
          "output_type": "stream",
          "name": "stdout",
          "text": [
            "created output directory at /content/src\n",
            "Out bin /content/result.out\n"
          ]
        }
      ]
    },
    {
      "cell_type": "code",
      "source": [
        "%%writefile sum.cu\n",
        "#include <iostream>\n",
        "#include <vector>\n",
        "#include <climits>\n",
        "__global__ void min_reduction_kernel(int* arr, int size, int* result) {\n",
        "int tid = blockIdx.x * blockDim.x + threadIdx.x;\n",
        "if (tid < size) {\n",
        "atomicMin(result, arr[tid]);\n",
        "}\n",
        "}\n",
        "__global__ void max_reduction_kernel(int* arr, int size, int* result) {\n",
        "int tid = blockIdx.x * blockDim.x + threadIdx.x;\n",
        "if (tid < size) {\n",
        "atomicMax(result, arr[tid]);\n",
        "}\n",
        "}\n",
        "__global__ void sum_reduction_kernel(int* arr, int size, int* result) {\n",
        "int tid = blockIdx.x * blockDim.x + threadIdx.x;\n",
        "if (tid < size) {\n",
        "atomicAdd(result, arr[tid]);\n",
        "}\n",
        "}\n",
        "__global__ void average_reduction_kernel(int* arr, int size, int* sum) {\n",
        "int tid = blockIdx.x * blockDim.x + threadIdx.x;\n",
        "if (tid < size) {\n",
        "atomicAdd(sum, arr[tid]);\n",
        "}\n",
        "}\n",
        "int main() {\n",
        "int size;\n",
        "std::cout << \"Enter the size of the array: \";\n",
        "std::cin >> size;\n",
        "std::vector<int> arr(size);\n",
        "for (int i = 0; i < size; ++i) {\n",
        "std::cout << \"Enter element \" << i << \": \";\n",
        "std::cin >> arr[i];\n",
        "}\n",
        "int* d_arr;\n",
        "int* d_result;\n",
        "int result_min = INT_MAX;\n",
        "int result_max = INT_MIN;\n",
        "int result_sum = 0;\n",
        "// Allocate memory on the device\n",
        "cudaMalloc(&d_arr, size * sizeof(int));\n",
        "cudaMalloc(&d_result, sizeof(int));\n",
        "// Copy data from host to device\n",
        "cudaMemcpy(d_arr, arr.data(), size * sizeof(int),\n",
        "cudaMemcpyHostToDevice);\n",
        "cudaMemcpy(d_result, &result_min, sizeof(int), cudaMemcpyHostToDevice);\n",
        "// Perform min reduction\n",
        "min_reduction_kernel<<<(size + 255) / 256, 256>>>(d_arr, size,\n",
        "d_result);\n",
        "cudaMemcpy(&result_min, d_result, sizeof(int), cudaMemcpyDeviceToHost);\n",
        "std::cout << \"Minimum value: \" << result_min << std::endl;\n",
        "// Perform max reduction\n",
        "cudaMemcpy(d_result, &result_max, sizeof(int), cudaMemcpyHostToDevice);\n",
        "max_reduction_kernel<<<(size + 255) / 256, 256>>>(d_arr, size,\n",
        "d_result);\n",
        "cudaMemcpy(&result_max, d_result, sizeof(int), cudaMemcpyDeviceToHost);\n",
        "std::cout << \"Maximum value: \" << result_max << std::endl;\n",
        "// Perform sum reduction\n",
        "cudaMemcpy(d_result, &result_sum, sizeof(int), cudaMemcpyHostToDevice);\n",
        "sum_reduction_kernel<<<(size + 255) / 256, 256>>>(d_arr, size,\n",
        "d_result);\n",
        "cudaMemcpy(&result_sum, d_result, sizeof(int), cudaMemcpyDeviceToHost);\n",
        "std::cout << \"Sum: \" << result_sum << std::endl;\n",
        "// Perform average reduction on CPU side\n",
        "double average = static_cast<double>(result_sum) / size;\n",
        "std::cout << \"Average: \" << average << std::endl;\n",
        "// Free device memory\n",
        "cudaFree(d_arr);\n",
        "cudaFree(d_result);\n",
        "return 0;\n",
        "}\n"
      ],
      "metadata": {
        "colab": {
          "base_uri": "https://localhost:8080/"
        },
        "id": "_IzcbIjl_6E-",
        "outputId": "4d9d3c9d-d307-4000-bd3d-b0a043bd1c8d"
      },
      "execution_count": null,
      "outputs": [
        {
          "output_type": "stream",
          "name": "stdout",
          "text": [
            "Writing sum.cu\n"
          ]
        }
      ]
    },
    {
      "cell_type": "code",
      "source": [
        "!nvcc sum.cu -o sum\n",
        "!./sum"
      ],
      "metadata": {
        "colab": {
          "base_uri": "https://localhost:8080/"
        },
        "id": "iZ8hB1eUACqq",
        "outputId": "257a1199-b347-4f54-fa59-b47f55a9835d"
      },
      "execution_count": null,
      "outputs": [
        {
          "output_type": "stream",
          "name": "stdout",
          "text": [
            "Enter the size of the array: 5\n",
            "Enter element 0: 46\n",
            "Enter element 1: 32\n",
            "Enter element 2: 47\n",
            "Enter element 3: 12\n",
            "Enter element 4: 19\n",
            "Minimum value: 12\n",
            "Maximum value: 47\n",
            "Sum: 156\n",
            "Average: 31.2\n"
          ]
        }
      ]
    },
    {
      "cell_type": "code",
      "source": [],
      "metadata": {
        "id": "48X11DEJALHn"
      },
      "execution_count": null,
      "outputs": []
    }
  ]
}