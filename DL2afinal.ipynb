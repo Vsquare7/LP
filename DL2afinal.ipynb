{
  "nbformat": 4,
  "nbformat_minor": 0,
  "metadata": {
    "colab": {
      "provenance": []
    },
    "kernelspec": {
      "name": "python3",
      "display_name": "Python 3"
    },
    "language_info": {
      "name": "python"
    }
  },
  "cells": [
    {
      "cell_type": "code",
      "execution_count": null,
      "metadata": {
        "id": "0XzCm9RjM_Rh"
      },
      "outputs": [],
      "source": [
        "\n",
        "import pandas as pd\n",
        "import numpy as np\n",
        "from sklearn.preprocessing import LabelEncoder\n",
        "from sklearn.model_selection import train_test_split\n",
        "from sklearn.metrics import accuracy_score"
      ]
    },
    {
      "cell_type": "code",
      "source": [
        "url = \"https://archive.ics.uci.edu/ml/machine-learning-databases/letter-recognition/letter-recognition.data\""
      ],
      "metadata": {
        "id": "ooBhc_j4NBQb"
      },
      "execution_count": null,
      "outputs": []
    },
    {
      "cell_type": "code",
      "source": [
        "names = ['letter', 'x-box', 'y-box', 'width', 'height', 'onpix', 'x-bar', 'y-bar', 'x2bar', 'y2bar', 'xybar', 'x2ybr', 'xy2br', 'x-ege', 'xegvy', 'y-ege', 'yegvx']"
      ],
      "metadata": {
        "id": "MdS_ii9YNDju"
      },
      "execution_count": null,
      "outputs": []
    },
    {
      "cell_type": "code",
      "source": [
        "data = pd.read_csv(url,names=names)"
      ],
      "metadata": {
        "id": "NVfn_60fNOcM"
      },
      "execution_count": null,
      "outputs": []
    },
    {
      "cell_type": "code",
      "source": [
        "X = data.drop('letter',axis=1)\n",
        "y= data['letter']"
      ],
      "metadata": {
        "id": "yJh8RS9RNQn6"
      },
      "execution_count": null,
      "outputs": []
    },
    {
      "cell_type": "code",
      "source": [
        "label_encoder = LabelEncoder()\n",
        "y_encoded = label_encoder.fit_transform(y)"
      ],
      "metadata": {
        "id": "w5RoJO6INSze"
      },
      "execution_count": null,
      "outputs": []
    },
    {
      "cell_type": "code",
      "source": [
        "X_train,X_test,y_train,y_test = train_test_split(X,y_encoded,test_size=0.2,random_state=42)"
      ],
      "metadata": {
        "id": "t5JDHALFNUlp"
      },
      "execution_count": null,
      "outputs": []
    },
    {
      "cell_type": "code",
      "source": [
        "from tensorflow.keras import Sequential\n",
        "from tensorflow.keras.layers import Dense"
      ],
      "metadata": {
        "id": "PzCI9qEyNW4O"
      },
      "execution_count": null,
      "outputs": []
    },
    {
      "cell_type": "code",
      "source": [
        "#DEfine model\n",
        "model = Sequential([\n",
        "    # First hidden layer with 64 neurons and ReLU activation function\n",
        "    Dense(64,activation='relu',input_shape=(X_train.shape[1],)),\n",
        "    # Second hidden layer with 64 neurons and ReLU activation function\n",
        "    Dense(64,activation='relu'),\n",
        "    # Output layer with neurons equal to the number of classes (26 for letters\n",
        "    # A-Z) and softmax activation function\n",
        "    Dense(len(label_encoder.classes_), activation='softmax')\n",
        "])"
      ],
      "metadata": {
        "id": "SuDi7c7PNZW0"
      },
      "execution_count": null,
      "outputs": []
    },
    {
      "cell_type": "code",
      "source": [
        "#Compile the model\n",
        "model.compile(optimizer='adam',\n",
        "              loss='sparse_categorical_crossentropy',\n",
        "              metrics=['accuracy'])"
      ],
      "metadata": {
        "id": "zwpMozriNbz5"
      },
      "execution_count": null,
      "outputs": []
    },
    {
      "cell_type": "code",
      "source": [
        "model.fit(X_train,y_train, epochs=20, batch_size=32, validation_split=0.1)"
      ],
      "metadata": {
        "colab": {
          "base_uri": "https://localhost:8080/"
        },
        "id": "gYMp892HNfuo",
        "outputId": "5b2ced54-09d5-4815-9abe-63aed7ece729"
      },
      "execution_count": null,
      "outputs": [
        {
          "output_type": "stream",
          "name": "stdout",
          "text": [
            "Epoch 1/20\n",
            "450/450 [==============================] - 2s 3ms/step - loss: 1.8934 - accuracy: 0.4812 - val_loss: 1.1791 - val_accuracy: 0.6619\n",
            "Epoch 2/20\n",
            "450/450 [==============================] - 1s 3ms/step - loss: 1.0147 - accuracy: 0.7196 - val_loss: 0.9187 - val_accuracy: 0.7525\n",
            "Epoch 3/20\n",
            "450/450 [==============================] - 1s 3ms/step - loss: 0.8450 - accuracy: 0.7608 - val_loss: 0.8115 - val_accuracy: 0.7744\n",
            "Epoch 4/20\n",
            "450/450 [==============================] - 1s 3ms/step - loss: 0.7352 - accuracy: 0.7894 - val_loss: 0.7261 - val_accuracy: 0.7962\n",
            "Epoch 5/20\n",
            "450/450 [==============================] - 1s 2ms/step - loss: 0.6538 - accuracy: 0.8121 - val_loss: 0.6522 - val_accuracy: 0.8163\n",
            "Epoch 6/20\n",
            "450/450 [==============================] - 1s 2ms/step - loss: 0.5917 - accuracy: 0.8297 - val_loss: 0.5933 - val_accuracy: 0.8281\n",
            "Epoch 7/20\n",
            "450/450 [==============================] - 1s 2ms/step - loss: 0.5464 - accuracy: 0.8390 - val_loss: 0.5294 - val_accuracy: 0.8450\n",
            "Epoch 8/20\n",
            "450/450 [==============================] - 1s 2ms/step - loss: 0.5055 - accuracy: 0.8468 - val_loss: 0.5218 - val_accuracy: 0.8419\n",
            "Epoch 9/20\n",
            "450/450 [==============================] - 1s 2ms/step - loss: 0.4669 - accuracy: 0.8588 - val_loss: 0.4666 - val_accuracy: 0.8562\n",
            "Epoch 10/20\n",
            "450/450 [==============================] - 1s 2ms/step - loss: 0.4382 - accuracy: 0.8664 - val_loss: 0.4337 - val_accuracy: 0.8669\n",
            "Epoch 11/20\n",
            "450/450 [==============================] - 1s 2ms/step - loss: 0.4138 - accuracy: 0.8753 - val_loss: 0.4459 - val_accuracy: 0.8662\n",
            "Epoch 12/20\n",
            "450/450 [==============================] - 1s 2ms/step - loss: 0.3940 - accuracy: 0.8790 - val_loss: 0.3921 - val_accuracy: 0.8838\n",
            "Epoch 13/20\n",
            "450/450 [==============================] - 1s 2ms/step - loss: 0.3774 - accuracy: 0.8842 - val_loss: 0.3909 - val_accuracy: 0.8838\n",
            "Epoch 14/20\n",
            "450/450 [==============================] - 2s 3ms/step - loss: 0.3566 - accuracy: 0.8894 - val_loss: 0.3677 - val_accuracy: 0.8888\n",
            "Epoch 15/20\n",
            "450/450 [==============================] - 2s 3ms/step - loss: 0.3397 - accuracy: 0.8949 - val_loss: 0.3572 - val_accuracy: 0.8869\n",
            "Epoch 16/20\n",
            "450/450 [==============================] - 1s 2ms/step - loss: 0.3267 - accuracy: 0.8976 - val_loss: 0.3355 - val_accuracy: 0.9044\n",
            "Epoch 17/20\n",
            "450/450 [==============================] - 1s 2ms/step - loss: 0.3163 - accuracy: 0.8993 - val_loss: 0.3446 - val_accuracy: 0.8950\n",
            "Epoch 18/20\n",
            "450/450 [==============================] - 1s 2ms/step - loss: 0.3033 - accuracy: 0.9022 - val_loss: 0.3530 - val_accuracy: 0.8938\n",
            "Epoch 19/20\n",
            "450/450 [==============================] - 1s 2ms/step - loss: 0.2890 - accuracy: 0.9083 - val_loss: 0.3184 - val_accuracy: 0.9075\n",
            "Epoch 20/20\n",
            "450/450 [==============================] - 1s 3ms/step - loss: 0.2801 - accuracy: 0.9113 - val_loss: 0.3160 - val_accuracy: 0.9050\n"
          ]
        },
        {
          "output_type": "execute_result",
          "data": {
            "text/plain": [
              "<keras.src.callbacks.History at 0x7e55437c6890>"
            ]
          },
          "metadata": {},
          "execution_count": 11
        }
      ]
    },
    {
      "cell_type": "code",
      "source": [
        "model.save(\"letter_recognition_model.h5\")"
      ],
      "metadata": {
        "colab": {
          "base_uri": "https://localhost:8080/"
        },
        "id": "Ch7HddpANiMZ",
        "outputId": "c823645e-7b19-42a4-ff8e-d970f87eaa73"
      },
      "execution_count": null,
      "outputs": [
        {
          "output_type": "stream",
          "name": "stderr",
          "text": [
            "/usr/local/lib/python3.10/dist-packages/keras/src/engine/training.py:3103: UserWarning: You are saving your model as an HDF5 file via `model.save()`. This file format is considered legacy. We recommend using instead the native Keras format, e.g. `model.save('my_model.keras')`.\n",
            "  saving_api.save_model(\n"
          ]
        }
      ]
    },
    {
      "cell_type": "code",
      "source": [
        "test_loss, test_acc = model.evaluate(X_test, y_test)\n",
        "print('Test Accuracy: ',test_acc)"
      ],
      "metadata": {
        "colab": {
          "base_uri": "https://localhost:8080/"
        },
        "id": "uj5xLNgpNpRh",
        "outputId": "1ed7e280-5d5f-49f1-f4ec-7aa0e590c34a"
      },
      "execution_count": null,
      "outputs": [
        {
          "output_type": "stream",
          "name": "stdout",
          "text": [
            "125/125 [==============================] - 0s 4ms/step - loss: 0.3045 - accuracy: 0.8988\n",
            "Test Accuracy:  0.8987500071525574\n"
          ]
        }
      ]
    },
    {
      "cell_type": "code",
      "source": [
        "np.save(\"label_encoder_classes.npy\",label_encoder.classes_)"
      ],
      "metadata": {
        "id": "q-M5l0LdOAg_"
      },
      "execution_count": null,
      "outputs": []
    },
    {
      "cell_type": "code",
      "source": [
        "from tensorflow.keras.models import load_model\n",
        "# Function to preprocess input dimensions\n",
        "def preprocess_input(dimensions):\n",
        "  # Convert dimensions to a numpy array and reshape it to match the input shape\n",
        "  # of the model\n",
        "  input_data=np.array(dimensions).reshape(1,-1)\n",
        "  return input_data"
      ],
      "metadata": {
        "id": "VVSVwOKYOCyx"
      },
      "execution_count": null,
      "outputs": []
    },
    {
      "cell_type": "code",
      "source": [
        "def predict_output(model,input_data,label_encoder):\n",
        "   # Use the model to predict the output\n",
        "  predicted_class=np.argmax(model.predict(input_data),axis=-1)\n",
        "  # Convert the predicted class index back to the original letter\n",
        "  predicted_letter = label_encoder.inverse_transform(predicted_class)\n",
        "  return predicted_letter[0]"
      ],
      "metadata": {
        "id": "YFeCfS3MOFZq"
      },
      "execution_count": null,
      "outputs": []
    },
    {
      "cell_type": "code",
      "source": [
        "model=load_model(\"letter_recognition_model.h5\")\n",
        "label_encoder = LabelEncoder()\n",
        "label_encoder.classes_ = np.load(\"label_encoder_classes.npy\",allow_pickle=True)"
      ],
      "metadata": {
        "id": "Ay2q3BEwOIBJ"
      },
      "execution_count": null,
      "outputs": []
    },
    {
      "cell_type": "code",
      "source": [
        "# Input dimensions dynamically from the user\n",
        "dimension_str = input(\"Enter the dimensions separated by commas: \")\n",
        "# Convert the input string to a list of integers\n",
        "dimensions = list(map(int, dimension_str.split(',')))"
      ],
      "metadata": {
        "colab": {
          "base_uri": "https://localhost:8080/"
        },
        "id": "LL0q6zLzOKFn",
        "outputId": "7cbb2bce-68e6-4647-ce4e-9503f21927d7"
      },
      "execution_count": null,
      "outputs": [
        {
          "name": "stdout",
          "output_type": "stream",
          "text": [
            "Enter the dimensions separated by commas: 8,14,8,8,5,8,5,2,9,12,6,9,3,7,6,7\n"
          ]
        }
      ]
    },
    {
      "cell_type": "code",
      "source": [
        "input_data = preprocess_input(dimensions)"
      ],
      "metadata": {
        "id": "uebD7wAtOOXH"
      },
      "execution_count": null,
      "outputs": []
    },
    {
      "cell_type": "code",
      "source": [
        "predicted_letter = predict_output(model, input_data,label_encoder)\n",
        "print(\"Predicted Letter: \",predicted_letter)"
      ],
      "metadata": {
        "colab": {
          "base_uri": "https://localhost:8080/"
        },
        "id": "4TVZ3oLPOVvs",
        "outputId": "95542606-53c1-4d52-b975-db8e410fa939"
      },
      "execution_count": null,
      "outputs": [
        {
          "output_type": "stream",
          "name": "stdout",
          "text": [
            "1/1 [==============================] - 0s 95ms/step\n",
            "Predicted Letter:  Z\n"
          ]
        }
      ]
    },
    {
      "cell_type": "code",
      "source": [],
      "metadata": {
        "id": "Ydb689xgOYOU"
      },
      "execution_count": null,
      "outputs": []
    }
  ]
}